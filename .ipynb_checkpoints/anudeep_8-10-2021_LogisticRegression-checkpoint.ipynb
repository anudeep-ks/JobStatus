{
 "cells": [
  {
   "cell_type": "markdown",
   "metadata": {},
   "source": [
    "## Importing the dependancies"
   ]
  },
  {
   "cell_type": "code",
   "execution_count": 1,
   "metadata": {},
   "outputs": [],
   "source": [
    "import numpy as np\n",
    "import pandas as pd\n",
    "from sklearn.model_selection import train_test_split\n",
    "from sklearn.linear_model import LogisticRegression\n",
    "from sklearn.metrics import accuracy_score"
   ]
  },
  {
   "cell_type": "markdown",
   "metadata": {},
   "source": [
    "## Data Collection and Analysis"
   ]
  },
  {
   "cell_type": "code",
   "execution_count": 2,
   "metadata": {},
   "outputs": [],
   "source": [
    "# Loading the Candidate evalualuaton dataset \n",
    "recruitment_dataset = pd.read_csv('cleaned_dataset.csv')"
   ]
  },
  {
   "cell_type": "code",
   "execution_count": 3,
   "metadata": {},
   "outputs": [
    {
     "data": {
      "text/html": [
       "<div>\n",
       "<style scoped>\n",
       "    .dataframe tbody tr th:only-of-type {\n",
       "        vertical-align: middle;\n",
       "    }\n",
       "\n",
       "    .dataframe tbody tr th {\n",
       "        vertical-align: top;\n",
       "    }\n",
       "\n",
       "    .dataframe thead th {\n",
       "        text-align: right;\n",
       "    }\n",
       "</style>\n",
       "<table border=\"1\" class=\"dataframe\">\n",
       "  <thead>\n",
       "    <tr style=\"text-align: right;\">\n",
       "      <th></th>\n",
       "      <th>UID</th>\n",
       "      <th>Email address</th>\n",
       "      <th>OOPS-21</th>\n",
       "      <th>Javascript-14</th>\n",
       "      <th>Cordova-4</th>\n",
       "      <th>Database-4</th>\n",
       "      <th>Testing-12</th>\n",
       "      <th>Analytical-5</th>\n",
       "      <th>Comprehensive-5</th>\n",
       "      <th>Total</th>\n",
       "      <th>Status</th>\n",
       "      <th>Reference</th>\n",
       "      <th>Experience</th>\n",
       "      <th>Role (QA/DEV/DM/Intern)</th>\n",
       "      <th>Date of test</th>\n",
       "      <th>Date of eval</th>\n",
       "    </tr>\n",
       "  </thead>\n",
       "  <tbody>\n",
       "    <tr>\n",
       "      <th>0</th>\n",
       "      <td>1</td>\n",
       "      <td>1@xyz.com</td>\n",
       "      <td>10</td>\n",
       "      <td>6</td>\n",
       "      <td>0</td>\n",
       "      <td>3</td>\n",
       "      <td>3</td>\n",
       "      <td>0</td>\n",
       "      <td>3</td>\n",
       "      <td>24/65</td>\n",
       "      <td>Reject</td>\n",
       "      <td>HAD</td>\n",
       "      <td>3.3yrs</td>\n",
       "      <td>Dev</td>\n",
       "      <td>11/18/2016</td>\n",
       "      <td>11/21/0206</td>\n",
       "    </tr>\n",
       "    <tr>\n",
       "      <th>1</th>\n",
       "      <td>3</td>\n",
       "      <td>3@xyz.com</td>\n",
       "      <td>9</td>\n",
       "      <td>5</td>\n",
       "      <td>2</td>\n",
       "      <td>2</td>\n",
       "      <td>6</td>\n",
       "      <td>0</td>\n",
       "      <td>0</td>\n",
       "      <td>24/65</td>\n",
       "      <td>Reject</td>\n",
       "      <td>HAD</td>\n",
       "      <td>4.2yrs</td>\n",
       "      <td>Dev</td>\n",
       "      <td>11/18/2016</td>\n",
       "      <td>1/21/2016</td>\n",
       "    </tr>\n",
       "    <tr>\n",
       "      <th>2</th>\n",
       "      <td>4</td>\n",
       "      <td>4@xyz.com</td>\n",
       "      <td>12</td>\n",
       "      <td>7</td>\n",
       "      <td>0</td>\n",
       "      <td>2</td>\n",
       "      <td>8</td>\n",
       "      <td>3</td>\n",
       "      <td>2</td>\n",
       "      <td>33/65</td>\n",
       "      <td>Reject</td>\n",
       "      <td>OSC</td>\n",
       "      <td>1yr</td>\n",
       "      <td>Dev</td>\n",
       "      <td>11/17/2016</td>\n",
       "      <td>11/17/2016</td>\n",
       "    </tr>\n",
       "    <tr>\n",
       "      <th>3</th>\n",
       "      <td>5</td>\n",
       "      <td>5@xyz.com</td>\n",
       "      <td>10</td>\n",
       "      <td>1</td>\n",
       "      <td>1</td>\n",
       "      <td>3</td>\n",
       "      <td>11</td>\n",
       "      <td>2</td>\n",
       "      <td>1</td>\n",
       "      <td>29/65</td>\n",
       "      <td>Reject</td>\n",
       "      <td>OSC</td>\n",
       "      <td>2.4yrs</td>\n",
       "      <td>QA</td>\n",
       "      <td>11/17/2016</td>\n",
       "      <td>11/17/2016</td>\n",
       "    </tr>\n",
       "    <tr>\n",
       "      <th>4</th>\n",
       "      <td>7</td>\n",
       "      <td>7@xyz.com</td>\n",
       "      <td>6</td>\n",
       "      <td>9</td>\n",
       "      <td>0</td>\n",
       "      <td>1</td>\n",
       "      <td>7</td>\n",
       "      <td>2</td>\n",
       "      <td>2</td>\n",
       "      <td>26/65</td>\n",
       "      <td>Reject</td>\n",
       "      <td>HAD</td>\n",
       "      <td>4yrs</td>\n",
       "      <td>Dev</td>\n",
       "      <td>11/18/2016</td>\n",
       "      <td>11/18/2016</td>\n",
       "    </tr>\n",
       "  </tbody>\n",
       "</table>\n",
       "</div>"
      ],
      "text/plain": [
       "   UID Email address  OOPS-21  Javascript-14  Cordova-4  Database-4  \\\n",
       "0    1     1@xyz.com       10              6          0           3   \n",
       "1    3     3@xyz.com        9              5          2           2   \n",
       "2    4     4@xyz.com       12              7          0           2   \n",
       "3    5     5@xyz.com       10              1          1           3   \n",
       "4    7     7@xyz.com        6              9          0           1   \n",
       "\n",
       "   Testing-12  Analytical-5  Comprehensive-5  Total  Status Reference  \\\n",
       "0           3             0                3  24/65  Reject       HAD   \n",
       "1           6             0                0  24/65  Reject       HAD   \n",
       "2           8             3                2  33/65  Reject       OSC   \n",
       "3          11             2                1  29/65  Reject       OSC   \n",
       "4           7             2                2  26/65  Reject       HAD   \n",
       "\n",
       "  Experience Role (QA/DEV/DM/Intern) Date of test Date of eval  \n",
       "0     3.3yrs                     Dev   11/18/2016   11/21/0206  \n",
       "1     4.2yrs                     Dev   11/18/2016    1/21/2016  \n",
       "2        1yr                     Dev   11/17/2016   11/17/2016  \n",
       "3     2.4yrs                      QA   11/17/2016   11/17/2016  \n",
       "4       4yrs                     Dev   11/18/2016   11/18/2016  "
      ]
     },
     "execution_count": 3,
     "metadata": {},
     "output_type": "execute_result"
    }
   ],
   "source": [
    "# Printing the first 5 rows of the dataset\n",
    "recruitment_dataset.head()"
   ]
  },
  {
   "cell_type": "code",
   "execution_count": 4,
   "metadata": {},
   "outputs": [
    {
     "data": {
      "text/plain": [
       "(119, 16)"
      ]
     },
     "execution_count": 4,
     "metadata": {},
     "output_type": "execute_result"
    }
   ],
   "source": [
    "# Number of rows and Columns in this dataset\n",
    "recruitment_dataset.shape"
   ]
  },
  {
   "cell_type": "code",
   "execution_count": 5,
   "metadata": {},
   "outputs": [
    {
     "data": {
      "text/html": [
       "<div>\n",
       "<style scoped>\n",
       "    .dataframe tbody tr th:only-of-type {\n",
       "        vertical-align: middle;\n",
       "    }\n",
       "\n",
       "    .dataframe tbody tr th {\n",
       "        vertical-align: top;\n",
       "    }\n",
       "\n",
       "    .dataframe thead th {\n",
       "        text-align: right;\n",
       "    }\n",
       "</style>\n",
       "<table border=\"1\" class=\"dataframe\">\n",
       "  <thead>\n",
       "    <tr style=\"text-align: right;\">\n",
       "      <th></th>\n",
       "      <th>UID</th>\n",
       "      <th>OOPS-21</th>\n",
       "      <th>Javascript-14</th>\n",
       "      <th>Cordova-4</th>\n",
       "      <th>Database-4</th>\n",
       "      <th>Testing-12</th>\n",
       "      <th>Analytical-5</th>\n",
       "      <th>Comprehensive-5</th>\n",
       "    </tr>\n",
       "  </thead>\n",
       "  <tbody>\n",
       "    <tr>\n",
       "      <th>count</th>\n",
       "      <td>119.000000</td>\n",
       "      <td>119.000000</td>\n",
       "      <td>119.000000</td>\n",
       "      <td>119.000000</td>\n",
       "      <td>119.000000</td>\n",
       "      <td>119.000000</td>\n",
       "      <td>119.000000</td>\n",
       "      <td>119.000000</td>\n",
       "    </tr>\n",
       "    <tr>\n",
       "      <th>mean</th>\n",
       "      <td>110.016807</td>\n",
       "      <td>11.067227</td>\n",
       "      <td>6.991597</td>\n",
       "      <td>1.680672</td>\n",
       "      <td>2.537815</td>\n",
       "      <td>6.689076</td>\n",
       "      <td>1.823529</td>\n",
       "      <td>1.478992</td>\n",
       "    </tr>\n",
       "    <tr>\n",
       "      <th>std</th>\n",
       "      <td>75.837134</td>\n",
       "      <td>2.146069</td>\n",
       "      <td>2.260553</td>\n",
       "      <td>1.352542</td>\n",
       "      <td>0.899999</td>\n",
       "      <td>2.134256</td>\n",
       "      <td>1.046763</td>\n",
       "      <td>1.274580</td>\n",
       "    </tr>\n",
       "    <tr>\n",
       "      <th>min</th>\n",
       "      <td>1.000000</td>\n",
       "      <td>6.000000</td>\n",
       "      <td>0.000000</td>\n",
       "      <td>0.000000</td>\n",
       "      <td>0.000000</td>\n",
       "      <td>2.000000</td>\n",
       "      <td>0.000000</td>\n",
       "      <td>0.000000</td>\n",
       "    </tr>\n",
       "    <tr>\n",
       "      <th>25%</th>\n",
       "      <td>38.500000</td>\n",
       "      <td>10.000000</td>\n",
       "      <td>6.000000</td>\n",
       "      <td>0.000000</td>\n",
       "      <td>2.000000</td>\n",
       "      <td>5.000000</td>\n",
       "      <td>1.000000</td>\n",
       "      <td>1.000000</td>\n",
       "    </tr>\n",
       "    <tr>\n",
       "      <th>50%</th>\n",
       "      <td>132.000000</td>\n",
       "      <td>11.000000</td>\n",
       "      <td>7.000000</td>\n",
       "      <td>2.000000</td>\n",
       "      <td>3.000000</td>\n",
       "      <td>7.000000</td>\n",
       "      <td>2.000000</td>\n",
       "      <td>1.000000</td>\n",
       "    </tr>\n",
       "    <tr>\n",
       "      <th>75%</th>\n",
       "      <td>166.000000</td>\n",
       "      <td>12.000000</td>\n",
       "      <td>8.000000</td>\n",
       "      <td>3.000000</td>\n",
       "      <td>3.000000</td>\n",
       "      <td>8.000000</td>\n",
       "      <td>3.000000</td>\n",
       "      <td>2.000000</td>\n",
       "    </tr>\n",
       "    <tr>\n",
       "      <th>max</th>\n",
       "      <td>254.000000</td>\n",
       "      <td>17.000000</td>\n",
       "      <td>13.000000</td>\n",
       "      <td>4.000000</td>\n",
       "      <td>4.000000</td>\n",
       "      <td>11.000000</td>\n",
       "      <td>4.000000</td>\n",
       "      <td>5.000000</td>\n",
       "    </tr>\n",
       "  </tbody>\n",
       "</table>\n",
       "</div>"
      ],
      "text/plain": [
       "              UID     OOPS-21  Javascript-14   Cordova-4  Database-4  \\\n",
       "count  119.000000  119.000000     119.000000  119.000000  119.000000   \n",
       "mean   110.016807   11.067227       6.991597    1.680672    2.537815   \n",
       "std     75.837134    2.146069       2.260553    1.352542    0.899999   \n",
       "min      1.000000    6.000000       0.000000    0.000000    0.000000   \n",
       "25%     38.500000   10.000000       6.000000    0.000000    2.000000   \n",
       "50%    132.000000   11.000000       7.000000    2.000000    3.000000   \n",
       "75%    166.000000   12.000000       8.000000    3.000000    3.000000   \n",
       "max    254.000000   17.000000      13.000000    4.000000    4.000000   \n",
       "\n",
       "       Testing-12  Analytical-5  Comprehensive-5  \n",
       "count  119.000000    119.000000       119.000000  \n",
       "mean     6.689076      1.823529         1.478992  \n",
       "std      2.134256      1.046763         1.274580  \n",
       "min      2.000000      0.000000         0.000000  \n",
       "25%      5.000000      1.000000         1.000000  \n",
       "50%      7.000000      2.000000         1.000000  \n",
       "75%      8.000000      3.000000         2.000000  \n",
       "max     11.000000      4.000000         5.000000  "
      ]
     },
     "execution_count": 5,
     "metadata": {},
     "output_type": "execute_result"
    }
   ],
   "source": [
    "# Getting the statistical measures of the data\n",
    "recruitment_dataset.describe()"
   ]
  },
  {
   "cell_type": "code",
   "execution_count": 6,
   "metadata": {},
   "outputs": [
    {
     "data": {
      "text/plain": [
       "Reject     111\n",
       "Offered      8\n",
       "Name: Status, dtype: int64"
      ]
     },
     "execution_count": 6,
     "metadata": {},
     "output_type": "execute_result"
    }
   ],
   "source": [
    "recruitment_dataset[\"Status\"].value_counts()"
   ]
  },
  {
   "cell_type": "code",
   "execution_count": 7,
   "metadata": {},
   "outputs": [],
   "source": [
    "# separating the data and labels\n",
    "X = recruitment_dataset.drop(columns=['UID','Status','Total','Email address','Reference','Experience','Role (QA/DEV/DM/Intern)','Date of test','Date of eval'],axis=1)\n",
    "Y = recruitment_dataset[\"Status\"]"
   ]
  },
  {
   "cell_type": "code",
   "execution_count": 8,
   "metadata": {},
   "outputs": [
    {
     "name": "stdout",
     "output_type": "stream",
     "text": [
      "     OOPS-21  Javascript-14  Cordova-4  Database-4  Testing-12  Analytical-5  \\\n",
      "0         10              6          0           3           3             0   \n",
      "1          9              5          2           2           6             0   \n",
      "2         12              7          0           2           8             3   \n",
      "3         10              1          1           3          11             2   \n",
      "4          6              9          0           1           7             2   \n",
      "..       ...            ...        ...         ...         ...           ...   \n",
      "114       11              8          3           3           4             0   \n",
      "115       13              7          2           1          10             1   \n",
      "116       12              8          2           1           5             1   \n",
      "117       10             10          4           3          10             1   \n",
      "118       13             10          4           3           8             3   \n",
      "\n",
      "     Comprehensive-5  \n",
      "0                  3  \n",
      "1                  0  \n",
      "2                  2  \n",
      "3                  1  \n",
      "4                  2  \n",
      "..               ...  \n",
      "114                1  \n",
      "115                2  \n",
      "116                1  \n",
      "117                1  \n",
      "118                5  \n",
      "\n",
      "[119 rows x 7 columns]\n",
      "0      Reject\n",
      "1      Reject\n",
      "2      Reject\n",
      "3      Reject\n",
      "4      Reject\n",
      "        ...  \n",
      "114    Reject\n",
      "115    Reject\n",
      "116    Reject\n",
      "117    Reject\n",
      "118    Reject\n",
      "Name: Status, Length: 119, dtype: object\n"
     ]
    }
   ],
   "source": [
    "print(X)\n",
    "print(Y)"
   ]
  },
  {
   "cell_type": "markdown",
   "metadata": {},
   "source": [
    "## Train-Test split"
   ]
  },
  {
   "cell_type": "code",
   "execution_count": 9,
   "metadata": {},
   "outputs": [],
   "source": [
    "X_train, X_test, Y_train, Y_test = train_test_split(X, Y, test_size = 0.1, stratify=Y, random_state=1)"
   ]
  },
  {
   "cell_type": "code",
   "execution_count": 10,
   "metadata": {},
   "outputs": [
    {
     "name": "stdout",
     "output_type": "stream",
     "text": [
      "(119, 7) (107, 7) (12, 7)\n"
     ]
    }
   ],
   "source": [
    "print(X.shape, X_train.shape, X_test.shape)"
   ]
  },
  {
   "cell_type": "code",
   "execution_count": 11,
   "metadata": {},
   "outputs": [
    {
     "name": "stdout",
     "output_type": "stream",
     "text": [
      "     OOPS-21  Javascript-14  Cordova-4  Database-4  Testing-12  Analytical-5  \\\n",
      "81        11              4          2           3           8             1   \n",
      "40        11             11          0           4           2             3   \n",
      "70        11              6          0           4           9             2   \n",
      "10        10              3          0           3           6             2   \n",
      "100        7              7          4           2           3             3   \n",
      "..       ...            ...        ...         ...         ...           ...   \n",
      "75        10              9          3           2           8             3   \n",
      "94         9              9          3           4           8             1   \n",
      "46        10             13          0           3           3             3   \n",
      "20        11              8          2           2           7             2   \n",
      "72        12              5          2           1           8             2   \n",
      "\n",
      "     Comprehensive-5  \n",
      "81                 0  \n",
      "40                 2  \n",
      "70                 3  \n",
      "10                 5  \n",
      "100                2  \n",
      "..               ...  \n",
      "75                 0  \n",
      "94                 0  \n",
      "46                 1  \n",
      "20                 0  \n",
      "72                 3  \n",
      "\n",
      "[107 rows x 7 columns]\n",
      "81     Reject\n",
      "40     Reject\n",
      "70     Reject\n",
      "10     Reject\n",
      "100    Reject\n",
      "        ...  \n",
      "75     Reject\n",
      "94     Reject\n",
      "46     Reject\n",
      "20     Reject\n",
      "72     Reject\n",
      "Name: Status, Length: 107, dtype: object\n"
     ]
    }
   ],
   "source": [
    "print(X_train)\n",
    "print(Y_train)"
   ]
  },
  {
   "cell_type": "markdown",
   "metadata": {},
   "source": [
    "## Training the model"
   ]
  },
  {
   "cell_type": "code",
   "execution_count": 12,
   "metadata": {},
   "outputs": [],
   "source": [
    "model = LogisticRegression()"
   ]
  },
  {
   "cell_type": "code",
   "execution_count": 13,
   "metadata": {},
   "outputs": [
    {
     "data": {
      "text/plain": [
       "LogisticRegression()"
      ]
     },
     "execution_count": 13,
     "metadata": {},
     "output_type": "execute_result"
    }
   ],
   "source": [
    "#training the Logistic Regression model with training data\n",
    "model.fit(X_train, Y_train)"
   ]
  },
  {
   "cell_type": "markdown",
   "metadata": {},
   "source": [
    "## Model Evaluation"
   ]
  },
  {
   "cell_type": "code",
   "execution_count": 14,
   "metadata": {},
   "outputs": [],
   "source": [
    "#accuracy on training data\n",
    "X_train_prediction = model.predict(X_train)\n",
    "training_data_accuracy = accuracy_score(X_train_prediction, Y_train) "
   ]
  },
  {
   "cell_type": "code",
   "execution_count": 15,
   "metadata": {},
   "outputs": [
    {
     "name": "stdout",
     "output_type": "stream",
     "text": [
      "Accuracy on training data :  0.9439252336448598\n"
     ]
    }
   ],
   "source": [
    "print('Accuracy on training data : ', training_data_accuracy)"
   ]
  },
  {
   "cell_type": "code",
   "execution_count": 16,
   "metadata": {},
   "outputs": [],
   "source": [
    "#accuracy on test data\n",
    "X_test_prediction = model.predict(X_test)\n",
    "test_data_accuracy = accuracy_score(X_test_prediction, Y_test) "
   ]
  },
  {
   "cell_type": "code",
   "execution_count": 17,
   "metadata": {},
   "outputs": [
    {
     "name": "stdout",
     "output_type": "stream",
     "text": [
      "Accuracy on test data :  0.9166666666666666\n"
     ]
    }
   ],
   "source": [
    "print('Accuracy on test data : ', test_data_accuracy)"
   ]
  },
  {
   "cell_type": "markdown",
   "metadata": {},
   "source": [
    "## Making a prediction system"
   ]
  },
  {
   "cell_type": "code",
   "execution_count": 65,
   "metadata": {},
   "outputs": [
    {
     "name": "stdout",
     "output_type": "stream",
     "text": [
      "['Offered']\n",
      "The candidate has been offered a job\n"
     ]
    }
   ],
   "source": [
    "input_data = (15,10,3,3,5,3,5)\n",
    "\n",
    "# changing the input_data to a numpy array\n",
    "input_data_as_numpy_array = np.asarray(input_data)\n",
    "\n",
    "# reshape the np array as we are predicting for one instance\n",
    "input_data_reshaped = input_data_as_numpy_array.reshape(1,-1)\n",
    "\n",
    "prediction = model.predict(input_data_reshaped)\n",
    "print(prediction)\n",
    "\n",
    "if (prediction[0]=='Reject'):\n",
    "   print('The candidates application is rejected')\n",
    "else:\n",
    "  print('The candidate has been offered a job')"
   ]
  },
  {
   "cell_type": "code",
   "execution_count": null,
   "metadata": {},
   "outputs": [],
   "source": []
  }
 ],
 "metadata": {
  "kernelspec": {
   "display_name": "Python 3",
   "language": "python",
   "name": "python3"
  },
  "language_info": {
   "codemirror_mode": {
    "name": "ipython",
    "version": 3
   },
   "file_extension": ".py",
   "mimetype": "text/x-python",
   "name": "python",
   "nbconvert_exporter": "python",
   "pygments_lexer": "ipython3",
   "version": "3.9.1"
  }
 },
 "nbformat": 4,
 "nbformat_minor": 4
}
